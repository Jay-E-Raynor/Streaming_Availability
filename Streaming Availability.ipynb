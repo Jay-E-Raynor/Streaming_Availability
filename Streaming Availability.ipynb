{
 "cells": [
  {
   "cell_type": "markdown",
   "id": "87109423",
   "metadata": {},
   "source": [
    "# Streaming Availability"
   ]
  },
  {
   "cell_type": "markdown",
   "id": "5c0e2fb9",
   "metadata": {},
   "source": [
    "## Instructions"
   ]
  },
  {
   "cell_type": "markdown",
   "id": "cc7fbc13",
   "metadata": {},
   "source": [
    "### Search Basic (Free)\n",
    "https://rapidapi.com/movie-of-the-night-movie-of-the-night-default/api/streaming-availability/\n",
    "\n",
    "Searches through the catalog of an OTT service in a particular country for a particular type of content (movie or series). Allows filtering the result by genre, keywords, and/or language. Returns paginated result with 8 items per page. For each item, returns information like title, IMDb ID, TMDb ID, IMDb rating, link to shows’ pages in streaming services, cast, runtime, poster, and much more.\tcountry – Mandatory parameter of type String. Specifies the country to be searched.\n",
    "\n",
    "service – Mandatory parameter of type String. Specifies the service to be searched. Possible values are Netflix, prime, Disney, hbo, hulu, peacock, paramount, starz, showtime, apple, mubi.\n",
    "\n",
    "type – Mandatory parameter of type String. Specifies the type of content that needs to be searched. Possible values are movie/series.\n",
    "\n",
    "genre – Optional parameter of type number corresponding to genre id. When specified, the endpoint filters the results by this genre. The genre id can be obtained from the genres endpoint.\n",
    "\n",
    "page – Optional parameter of type number corresponding to a page number. Specifies the position from where the results need to be returned. It can be used for pagination.\n",
    "\n",
    "keyword – Optional parameter of type String corresponding to a keyword to be searched. When specified, the endpoint filters the results by this keyword.\n",
    "\n",
    "language – Optional parameter of the type String corresponding to the original language of the show. When specified, the endpoint filters the results by this language."
   ]
  },
  {
   "cell_type": "markdown",
   "id": "01f23ea0",
   "metadata": {},
   "source": [
    "### List of Supported Countries\n",
    "Argentina     Australia     Austria     Azerbaijan  Belgium     Brazil     Bulgaria     Canada     Chile     Colombia     Croatia     Cyprus     Czech Republic     Denmark     Ecuador     Estonia     Finland     France     Germany     Greece     Hong Kong     Hungary     Iceland     India     Indonesia     Ireland     Israel     Italy     Japan     Lithuania     Malaysia     Mexico     Moldova     Netherlands     New Zealand     North Macedonia     Norway     Panama     Peru     Philippines     Poland     Portugal     Romania     Russia     Serbia     Singapore     South Africa     South Korea     Spain     Sweden     Switzerland     Thailand     Turkey     Ukraine     United Emirates     United Kingdom     United States     Vietnam\n",
    "    \n",
    "    \n",
    " ['AR',\n",
    " 'AU',\n",
    " 'AT',\n",
    " 'AZ',\n",
    " 'BE',\n",
    " 'BR',\n",
    " 'BG',\n",
    " 'CA',\n",
    " 'CL',\n",
    " 'CO',\n",
    " 'HR',\n",
    " 'CY',\n",
    " 'DK',\n",
    " 'EC',\n",
    " 'EE',\n",
    " 'FI',\n",
    " 'FR',\n",
    " 'DE',\n",
    " 'GR',\n",
    " 'HK',\n",
    " 'HU',\n",
    " 'IS',\n",
    " 'IN',\n",
    " 'ID',\n",
    " 'IE',\n",
    " 'IL',\n",
    " 'IT',\n",
    " 'JP',\n",
    " 'LT',\n",
    " 'MY',\n",
    " 'MX',\n",
    " 'NZ',\n",
    " 'NO',\n",
    " 'PA',\n",
    " 'PE',\n",
    " 'PL',\n",
    " 'PT',\n",
    " 'RO',\n",
    " 'RS',\n",
    " 'SG',\n",
    " 'ZA',\n",
    " 'ES',\n",
    " 'SE',\n",
    " 'CH',\n",
    " 'TH',\n",
    " 'TR',\n",
    " 'UA',\n",
    " 'CZ',\n",
    " 'MD',\n",
    " 'NL',\n",
    " 'MK',\n",
    " 'PH',\n",
    " 'RU',\n",
    " 'KR',\n",
    " 'AE',\n",
    " 'GB',\n",
    " 'US',\n",
    " 'VN']"
   ]
  },
  {
   "cell_type": "markdown",
   "id": "9f8b1aa2",
   "metadata": {},
   "source": [
    "### streaming services\n",
    " \n",
    "20 streaming services: Netflix, Amazon Prime Video, Hulu, Disney+, HBO Max, Peacock, Paramount+, Starz, Showtime, Apple TV+, Mubi, Stan, Now, Crave, All 4, BBC iPlayer, BritBox, Hotstar, Zee5 and Curiosity Stream"
   ]
  },
  {
   "cell_type": "markdown",
   "id": "bca85639",
   "metadata": {},
   "source": [
    "## Imports and Pandas settings"
   ]
  },
  {
   "cell_type": "code",
   "execution_count": null,
   "id": "efc38086",
   "metadata": {
    "hide_input": false
   },
   "outputs": [],
   "source": [
    "import pandas as pd\n",
    "import json\n",
    "import requests\n",
    "import re\n",
    "import webbrowser\n",
    "import os \n",
    "pd.options.display.max_columns = 999\n",
    "pd.options.display.max_rows = 999\n",
    "pd.set_option('display.max_colwidth', 100)"
   ]
  },
  {
   "cell_type": "markdown",
   "id": "5721c36d",
   "metadata": {},
   "source": [
    "## Functions"
   ]
  },
  {
   "cell_type": "code",
   "execution_count": null,
   "id": "455cd9d9",
   "metadata": {},
   "outputs": [],
   "source": [
    "def search_movie_series():\n",
    "    while True:\n",
    "        movie_series  = input(\"Is it a movie or series?\").lower()\n",
    "        if movie_series.startswith(\"m\"):\n",
    "            movie_series = \"movie\"\n",
    "            break\n",
    "        elif movie_series.startswith(\"s\"):\n",
    "            movie_series = \"series\"\n",
    "            break\n",
    "        else:\n",
    "            continue \n",
    "    \n",
    "    return movie_series"
   ]
  },
  {
   "cell_type": "code",
   "execution_count": null,
   "id": "393858fc",
   "metadata": {},
   "outputs": [],
   "source": [
    "def search_input():\n",
    "    keyword  = str(input(\"Search for: \").lower())\n",
    "    \n",
    "    return keyword"
   ]
  },
  {
   "cell_type": "code",
   "execution_count": null,
   "id": "2b99c539",
   "metadata": {},
   "outputs": [],
   "source": [
    "# Get the Data\n",
    "def colect_data(service, country, movie_series, keyword, api):\n",
    "    \"\"\"Colects data\"\"\"\n",
    "    \n",
    "    # URL, key and headers for the API\n",
    "    url = \"https://streaming-availability.p.rapidapi.com/search/basic\"\n",
    "    headers = {\n",
    "                \"X-RapidAPI-Key\": api,\n",
    "                \"X-RapidAPI-Host\": \"streaming-availability.p.rapidapi.com\"\n",
    "                }\n",
    "\n",
    "    json_lst = [] # Prepare json file list\n",
    "    \n",
    "    for ser in service: # Goes through all services in list\n",
    "        for con in country: # Goes through all the countries in the list\n",
    "            \n",
    "            querystring = {\"country\": con, # from list\n",
    "                           \"service\": ser, # from list\n",
    "                           \"type\": movie_series, # from input\n",
    "                           \"keyword\": keyword,# from input\n",
    "                           }\n",
    "            response = requests.request(\"GET\", url, headers=headers, params=querystring) # Get the data\n",
    "    \n",
    "            if response.status_code != 200: # Check if it was successful\n",
    "                continue\n",
    "            else:\n",
    "                data = response.json() # Turn response in to json file.\n",
    "                json_lst.append(data)  # Add to a list of json files\n",
    "    \n",
    "    # Transfor the data in to a Datafarme \n",
    "    df = pd.concat([pd.DataFrame(json[\"results\"]) for json in json_lst]).reset_index(drop=True)\n",
    "    \n",
    "    return df # Return Dataframe\n"
   ]
  },
  {
   "cell_type": "code",
   "execution_count": null,
   "id": "5903418f",
   "metadata": {},
   "outputs": [],
   "source": [
    "def clean_data_service(df_original):\n",
    "    \"\"\"Clean the data service column\"\"\"\n",
    "    # Create new df with links to service\n",
    "    df_service = pd.concat([pd.DataFrame.from_dict(dic) for dic in df_original[\"streamingInfo\"]]).reset_index(drop=True)\n",
    "    \n",
    "    \n",
    "    # Turn link dict in to strings\n",
    "    df_service.fillna(\"Not available\", inplace=True) # Fill nan with string \"Not available\"\n",
    "    for key in df_service.keys(): # Get dict from df\n",
    "        for i in range(0, len(df_service)): # Get index num\n",
    "            if df_service[key][i] == \"Not available\": # Skip if no link is available\n",
    "                continue\n",
    "            else:\n",
    "                df_service[key][i] = df_service[key][i][\"link\"] # Replace dict with string \n",
    "    \n",
    "    df_merged = pd.concat([df_original, df_service], axis=1) # merge the df  \n",
    "    \n",
    "    return df_merged"
   ]
  },
  {
   "cell_type": "code",
   "execution_count": null,
   "id": "e96937ff",
   "metadata": {},
   "outputs": [],
   "source": [
    "def add_missing_service(df, service_lst):\n",
    "    \"\"\"adds missing services to df\"\"\"\n",
    "    for service in service_lst: # Adds missing service to df\n",
    "        if service not in df.columns:\n",
    "            df[service] = \"Not available\"\n",
    "    \n",
    "    return df"
   ]
  },
  {
   "cell_type": "code",
   "execution_count": null,
   "id": "0c47084e",
   "metadata": {},
   "outputs": [],
   "source": [
    "def add_country(df_country):\n",
    "    \"\"\"Add country to df\"\"\"\n",
    "    df_country[\"country\"] = \"\" # Add country column to df\n",
    "    for i in range(0,len(df_country)): # Add country to column\n",
    "        df_country[\"country\"][i] = list(df_country[\"streamingInfo\"][i][list(df_country[\"streamingInfo\"][i].keys())[0]])[0]\n",
    " \n",
    "    return df_country"
   ]
  },
  {
   "cell_type": "code",
   "execution_count": null,
   "id": "b97a5974",
   "metadata": {},
   "outputs": [],
   "source": [
    "def clean_df(df):\n",
    "    \"\"\"Reduce number of columns\"\"\"\n",
    "    # Reduce number of columns\n",
    "    df.set_index([\"title\"], inplace=True)\n",
    "    df = df[[\"country\", \"netflix\", \"prime\", \"hbo\", \"disney\",\"imdbRating\",\"runtime\",\"originalLanguage\",\"overview\"]]\n",
    "    return df\n"
   ]
  },
  {
   "cell_type": "code",
   "execution_count": null,
   "id": "05895251",
   "metadata": {},
   "outputs": [],
   "source": [
    "def df_styler(df):\n",
    "    \"\"\"Add caption and change color when hovering over row\"\"\"\n",
    "    \n",
    "    # Caption size, color and hover color\n",
    "    styles_caption = [dict(selector=\"caption\",\n",
    "            props=[(\"text-align\", \"center\"),\n",
    "                     (\"font-size\", \"200%\"),\n",
    "                    (\"color\", 'black'),\n",
    "                  ('background-color', 'Lightblue')]),\n",
    "                    dict(selector=\"tr:hover\",\n",
    "            props=[('background-color', 'Lightblue')])]\n",
    "    \n",
    "    # Apply changes   \n",
    "    df = df.style.set_caption(\"Stream Availability\").set_table_styles(styles_caption)\n",
    "    return df"
   ]
  },
  {
   "cell_type": "code",
   "execution_count": null,
   "id": "a34f849b",
   "metadata": {},
   "outputs": [],
   "source": [
    "def convert_to_HTML(df):\n",
    "    \"\"\"Convert to HTML an display in browser\"\"\"\n",
    "    # convert dataframe to html\n",
    "    html = df.to_html()\n",
    "    # save file\n",
    "    text_file = open(\"df.html\", \"w\")\n",
    "    text_file.write(html)\n",
    "    text_file.close()\n",
    "    # open in browser\n",
    "    webbrowser.open(os.getcwd()+ \"\\\\df.html\")"
   ]
  },
  {
   "cell_type": "code",
   "execution_count": null,
   "id": "26bd801d",
   "metadata": {},
   "outputs": [],
   "source": []
  },
  {
   "cell_type": "markdown",
   "id": "6635d4fb",
   "metadata": {},
   "source": [
    "## Program"
   ]
  },
  {
   "cell_type": "markdown",
   "id": "a0f8d1bb",
   "metadata": {},
   "source": [
    "### Lists"
   ]
  },
  {
   "cell_type": "code",
   "execution_count": null,
   "id": "9d4dde3d",
   "metadata": {
    "code_folding": []
   },
   "outputs": [],
   "source": [
    "##########################\n",
    "## TO LONG FOR FREE API ##\n",
    "##vvvvvvvvvvvvvvvvvvvvvv##\n",
    "#\n",
    "# service_lst = [\"netflix\", \"prime\", \"disney\", \"hbo\", \"hulu\", \"peacock\", \n",
    "#                \"paramount\", \"starz\", \"showtime\", \"apple\", \"mubi\", \"Stan\",\n",
    "#               \"Now\", \"Crave\", \"All4\", \"BBC\" \"iPlayer\", \"BritBox\", \"Hotstar\",\n",
    "#               \"Zee5\",\"CuriosityStream\"]\n",
    "#\n",
    "# country_code_lst =['CZ', 'MD', 'NL', 'MK', 'PH', 'RU', 'KR', 'AE', 'GB', 'US', 'VN', 'AR', 'AU', 'AT', 'AZ', 'BE', 'BR',\n",
    "#                   'BG', 'CA', 'CL', 'CO', 'HR', 'CY', 'DK', 'EC', 'EE', 'FI', 'FR', 'DE', 'GR', 'HK', 'HU', 'IS', 'IN',\n",
    "#                   'ID', 'IE', 'IL', 'IT', 'JP', 'LT', 'MY', 'MX', 'NZ', 'NO', 'PA', 'PE', 'PL', 'PT', 'RO', 'RS', 'SG',\n",
    "#                   'ZA', 'ES', 'SE', 'CH', 'TH', 'TR', 'UA']\n",
    "#\n",
    "##^^^^^^^^^^^^^^^^^^^^^^##\n",
    "## TO LONG FOR FREE API ##\n",
    "##########################\n",
    "\n",
    "\n",
    "# short list for testing\n",
    "country_code_lst_short =  [\"SE\", \"GB\", \"BR\", \"HR\", \"IN\"]\n",
    "service_lst_short = [\"netflix\", \"prime\", \"hbo\", \"disney\"]"
   ]
  },
  {
   "cell_type": "markdown",
   "id": "a4a586e9",
   "metadata": {},
   "source": [
    "### Code"
   ]
  },
  {
   "cell_type": "code",
   "execution_count": null,
   "id": "32ff3346",
   "metadata": {
    "code_folding": []
   },
   "outputs": [],
   "source": [
    "# API key\n",
    "api_key = input(f\"Get key from https://rapidapi.com/movie-of-the-night-movie-of-the-night-default/api/streaming-availability/\\nkey:\")\n",
    "\n",
    "\n",
    "# Get search input \n",
    "movie_or_series = search_movie_series()\n",
    "keyword = search_input()\n",
    "\n",
    "# Collect data \n",
    "df = colect_data(service_lst_short, country_code_lst_short, movie_or_series, keyword, api_key)\n",
    "\n",
    "# Clean data\n",
    "df_copy = clean_data_service(df.copy())\n",
    "df_copy = add_missing_service(df_copy, service_lst_short)\n",
    "df_copy = add_country(df_copy)\n",
    "df_copy = clean_df(df_copy)\n",
    "\n",
    "# Change df style\n",
    "df_copy = df_styler(df_copy)\n",
    "\n",
    "# Convert to HTML and oppen in browser\n",
    "convert_to_HTML(df_copy)\n",
    "    "
   ]
  }
 ],
 "metadata": {
  "hide_input": false,
  "kernelspec": {
   "display_name": "Python 3 (ipykernel)",
   "language": "python",
   "name": "python3"
  },
  "language_info": {
   "codemirror_mode": {
    "name": "ipython",
    "version": 3
   },
   "file_extension": ".py",
   "mimetype": "text/x-python",
   "name": "python",
   "nbconvert_exporter": "python",
   "pygments_lexer": "ipython3",
   "version": "3.9.12"
  },
  "toc": {
   "base_numbering": 1,
   "nav_menu": {},
   "number_sections": true,
   "sideBar": true,
   "skip_h1_title": false,
   "title_cell": "Table of Contents",
   "title_sidebar": "Contents",
   "toc_cell": false,
   "toc_position": {},
   "toc_section_display": true,
   "toc_window_display": false
  }
 },
 "nbformat": 4,
 "nbformat_minor": 5
}
